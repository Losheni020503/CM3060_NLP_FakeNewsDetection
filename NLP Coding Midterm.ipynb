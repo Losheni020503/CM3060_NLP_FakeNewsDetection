{
 "cells": [
  {
   "cell_type": "markdown",
   "id": "1e93c3ba",
   "metadata": {},
   "source": [
    "## Introduction"
   ]
  },
  {
   "cell_type": "markdown",
   "id": "9751842b",
   "metadata": {},
   "source": [
    "#### 1. Domain-Specific Area\n",
    "\n",
    "Text classification plays a pivotal role across various domains such as fake news detection, sentiment analysis, spam detection, and document tagging. These applications leverage natural language processing (NLP) techniques to automate the categorization of text data, thereby assisting in decision-making processes and information retrieval systems. For this coursework, the focus is on fake news detection—a critical area amid growing concerns about misinformation and its societal impacts.\n",
    "\n",
    "The primary objective of this project is to leverage natural language processing (NLP) techniques to classify text data into predefined categories. This project specifically focuses on comparing the performance of Long Short-Term Memory (LSTM) networks and Support Vector Machines (SVM) for the classification task. By exploring both traditional machine learning and deep learning models, the goal is to determine which approach yields better performance on the given dataset. This analysis includes baseline performance evaluation, hyperparameter tuning, and comparative analysis of model outcomes.\n",
    "\n",
    "Fake news detection involves distinguishing between factual news articles and deliberately misleading information. This problem is multifaceted, involving linguistic analysis, contextual understanding, and often requires real-time processing capabilities. Previous studies have highlighted the importance of accurate classification models in mitigating the spread of misinformation and maintaining trust in digital media platforms (Shu et al., 2017).\n",
    "\n",
    "##### Background : \n",
    "\n",
    "Natural language processing has become an integral part of modern data-driven applications, including sentiment analysis, machine translation, and text classification. In the context of this project, text classification is crucial for organizing and managing large volumes of text data. For instance, sentiment analysis can help businesses understand customer opinions, and text classification can streamline document management. Traditional machine learning models like SVM have been widely used due to their robustness in high-dimensional spaces. However, the advent of deep learning has introduced powerful models like LSTM that excel in capturing sequential dependencies in text data. This project aims to bridge the gap between these methodologies and provide insights into their relative efficacy."
   ]
  },
  {
   "cell_type": "markdown",
   "id": "467ae10d",
   "metadata": {},
   "source": [
    "#### 2. Objectives of the Project\n",
    "\n",
    "The primary objective of this project is to evaluate and compare the effectiveness of traditional statistical models and modern deep learning models in the context of fake news detection. Statistical models like Logistic Regression and Naive Bayes provide interpretable results and are suitable for simpler text classification tasks. In contrast, deep learning models such as LSTM (Long Short-Term Memory) networks,\n",
    "\n",
    "This study aims to contribute by assessing:\n",
    "\n",
    "The accuracy, precision, recall, and F1-score metrics of each model.\n",
    "The scalability and computational efficiency of these models in handling large-scale datasets.\n",
    "The robustness of models against adversarial inputs and evolving forms of misinformation.\n",
    "By comparing these methodologies, we aim to provide insights into their applicability and performance characteristics in real-world scenarios, thereby informing future advancements in fake news detection systems (Potthast et al., 2018)."
   ]
  },
  {
   "cell_type": "markdown",
   "id": "d5f899fc",
   "metadata": {},
   "source": [
    "#### 3. Description of the Selected Dataset\n",
    "The dataset chosen for this project is the \"Fake and Real News\" dataset available from Kaggle, curated by Clément Bisaillon. This dataset comprises two CSV files: Fake.csv and True.csv, containing news articles labeled as either fake or real based on their content and origin. The dataset is sourced from a variety of news sources and represents a balanced collection of fake and real news articles.\n",
    "\n",
    "Size and Structure: The dataset consists of approximately 44,898 news articles in total, with 21,417 articles labeled as fake and 21,876 articles labeled as true.\n",
    "Data Types: Each article includes textual content and metadata such as the article title, text, subject, and date published.\n",
    "Data Acquisition: The dataset was compiled using web scraping techniques to collect articles from different news websites, ensuring diversity in content and topics.\n",
    "This dataset is ideal for our project as it provides a realistic representation of the challenges involved in fake news detection, including variability in writing styles, topics, and linguistic nuances across different sources.\n",
    "\n",
    "\n",
    "Preprocessing:\n",
    "To prepare the text data for model training, several preprocessing steps were undertaken:\n",
    "\n",
    "Tokenization: The text data was tokenized into individual words, converting each sentence into a sequence of tokens.\n",
    "Stopwords Removal: Common stopwords (e.g., 'and', 'the', 'is') were removed to reduce noise and improve model performance.\n",
    "Stemming/Lemmatization: Words were reduced to their base or root form using [stemming/lemmatization tool], ensuring consistency in word representation.\n",
    "Vectorization: The tokenized text was converted into numerical vectors using techniques such as TF-IDF or word embeddings, making it suitable for model input.\n",
    "\n",
    "\n"
   ]
  },
  {
   "cell_type": "markdown",
   "id": "8d1f81bb",
   "metadata": {},
   "source": [
    "#### 4. Evaluation Methodology\n",
    "To assess the performance of our models, we will employ standard evaluation metrics widely used in classification tasks:\n",
    "\n",
    "Accuracy: Measures the overall correctness of predictions.\n",
    "Precision: Measures the proportion of true positive predictions among all positive predictions.\n",
    "Recall: Measures the proportion of true positive predictions among all actual positives.\n",
    "F1-Score: Harmonic mean of precision and recall, providing a balanced measure between the two.\n",
    "These metrics will allow us to comprehensively evaluate and compare the performance of both statistical and embedding-based models. We will also consider additional metrics such as confusion matrices and ROC curves to gain deeper insights into model behavior and performance across different thresholds.\n",
    "\n",
    "By applying these metrics, we aim to quantify the effectiveness of each methodology in addressing the challenge of fake news detection, providing a clear basis for comparative analysis and informed decision-making in model selection. \n",
    "\n",
    "Model Selection:\n",
    "Two primary models were selected for this project: LSTM and SVM.\n",
    "\n",
    "LSTM: Long Short-Term Memory networks are a type of recurrent neural network (RNN) that can capture long-term dependencies in sequential data. They are particularly effective for text data where the order of words and context play a significant role. The LSTM model was chosen for its ability to handle varying lengths of input sequences and retain information over long distances.\n",
    "\n",
    "SVM: Support Vector Machines are a traditional machine learning model known for their robustness in high-dimensional spaces. SVMs are effective for binary and multi-class classification tasks and can handle linear and non-linear decision boundaries using kernel functions. The SVM model was selected to provide a comparative baseline against the more complex LSTM model.\n",
    "\n",
    "Baseline Model:\n",
    "\n",
    "Reason for Selection: The baseline model chosen for this project is a simple logistic regression model. Logistic regression is a straightforward and interpretable algorithm that provides a benchmark for evaluating the performance of more complex models. By comparing against a baseline with lower expected accuracy, we can better understand the incremental value added by advanced models like LSTM and SVM.\n",
    "Performance Metrics: The primary metrics used to evaluate model performance include accuracy, precision, recall, and F1-score. These metrics provide a comprehensive view of the model's ability to correctly classify text samples and handle class imbalances."
   ]
  },
  {
   "cell_type": "code",
   "execution_count": 1,
   "id": "1af53ce6",
   "metadata": {},
   "outputs": [],
   "source": [
    "# Import necessary libraries\n",
    "\n",
    "import pandas as pd\n",
    "import numpy as np\n",
    "import matplotlib.pyplot as plt\n",
    "import seaborn as sns\n",
    "import nltk\n",
    "import matplotlib.pyplot as plt\n",
    "import seaborn as sns\n",
    "import joblib\n",
    "\n",
    "from sklearn.svm import SVC\n",
    "from sklearn.model_selection import train_test_split, GridSearchCV \n",
    "from sklearn.feature_extraction.text import TfidfVectorizer, CountVectorizer\n",
    "from sklearn.linear_model import LogisticRegression\n",
    "from sklearn.metrics import accuracy_score, precision_score, recall_score, f1_score, confusion_matrix, classification_report\n",
    "from sklearn.naive_bayes import MultinomialNB\n",
    "from sklearn.ensemble import RandomForestClassifier\n",
    "\n",
    "from sklearn.naive_bayes import MultinomialNB\n",
    "from sklearn.ensemble import RandomForestClassifier\n",
    "from sklearn.svm import SVC\n",
    "from sklearn.metrics import accuracy_score, classification_report\n",
    "\n",
    "import tensorflow as tf\n",
    "from tensorflow.keras.preprocessing.text import Tokenizer\n",
    "from tensorflow.keras.preprocessing.sequence import pad_sequences\n",
    "from tensorflow.keras.models import Sequential\n",
    "from tensorflow.keras.layers import Embedding, LSTM, Dense, SpatialDropout1D , Dropout, Bidirectional, GlobalMaxPooling1D\n",
    "\n",
    "from tensorflow.keras.optimizers import Adam\n",
    "from sklearn.model_selection import train_test_split\n",
    "from sklearn.metrics import classification_report, confusion_matrix, roc_curve, roc_auc_score\n",
    "\n",
    "from nltk.corpus import stopwords\n",
    "from nltk.tokenize import word_tokenize\n",
    "from nltk.stem import WordNetLemmatizer\n",
    "\n"
   ]
  },
  {
   "cell_type": "code",
   "execution_count": 2,
   "id": "98a47d97",
   "metadata": {},
   "outputs": [
    {
     "name": "stdout",
     "output_type": "stream",
     "text": [
      "title      0\n",
      "text       0\n",
      "subject    0\n",
      "date       0\n",
      "label      0\n",
      "dtype: int64\n"
     ]
    }
   ],
   "source": [
    "#Load the datasets\n",
    "fake_news = pd.read_csv(r\"C:\\Users\\ASUS\\Desktop\\BSc (Hons) Computer Science UOL\\Natural Language Processing\\Midterm\\csv\\Fake.csv\")\n",
    "true_news = pd.read_csv(r\"C:\\Users\\ASUS\\Desktop\\BSc (Hons) Computer Science UOL\\Natural Language Processing\\Midterm\\csv\\True.csv\")\n",
    "\n",
    "# Add labels\n",
    "fake_news['label'] = 0  # 0 for fake news\n",
    "true_news['label'] = 1  # 1 for true news\n",
    "\n",
    "# Merge datasets\n",
    "news_data = pd.concat([fake_news, true_news]).reset_index(drop=True)\n",
    "\n",
    "# Check for missing values\n",
    "print(news_data.isnull().sum())"
   ]
  },
  {
   "cell_type": "code",
   "execution_count": 3,
   "id": "5737cc07",
   "metadata": {},
   "outputs": [
    {
     "data": {
      "image/png": "[encoded data removed]",
      "text/plain": [
       "<Figure size 640x480 with 1 Axes>"
      ]
     },
     "metadata": {},
     "output_type": "display_data"
    }
   ],
   "source": [
    "# Visualize data distribution\n",
    "sns.countplot(x='label', data=news_data)\n",
    "plt.title('Distribution of Fake and Real News')\n",
    "plt.show()\n"
   ]
  },
  {
   "cell_type": "markdown",
   "id": "2b10c2e5",
   "metadata": {},
   "source": [
    "## Data Preprocessing"
   ]
  },
  {
   "cell_type": "code",
   "execution_count": 4,
   "id": "b8f2a335",
   "metadata": {},
   "outputs": [],
   "source": [
    "# Text preprocessing\n",
    "lemmatizer = WordNetLemmatizer()\n",
    "stop_words = set(stopwords.words('english'))\n",
    "\n",
    "def preprocess_text(text):\n",
    "    tokens = word_tokenize(text.lower())\n",
    "    tokens = [lemmatizer.lemmatize(token) for token in tokens if token.isalpha()]\n",
    "    tokens = [token for token in tokens if token not in stop_words]\n",
    "    return ' '.join(tokens)\n",
    "\n",
    "# Apply preprocessing\n",
    "news_data['text_processed'] = news_data['text'].apply(preprocess_text)\n",
    "\n",
    "# Split data into training and testing sets\n",
    "X = news_data['text_processed']\n",
    "y = news_data['label']\n",
    "X_train, X_test, y_train, y_test = train_test_split(X, y, test_size=0.2, random_state=42)\n",
    "\n",
    "# Count Vectorizer for statistical models\n",
    "count_vectorizer = CountVectorizer(max_features=5000)\n",
    "X_train_count = count_vectorizer.fit_transform(X_train)\n",
    "X_test_count = count_vectorizer.transform(X_test)\n",
    "\n",
    "# TF-IDF vectorization for statistical models\n",
    "tfidf_vectorizer = TfidfVectorizer(max_features=5000)\n",
    "X_train_tfidf = tfidf_vectorizer.fit_transform(X_train)\n",
    "X_test_tfidf = tfidf_vectorizer.transform(X_test)\n",
    "\n",
    "# Initialize classifiers\n",
    "lr_classifier = LogisticRegression(max_iter=1000, class_weight='balanced')\n",
    "nb_classifier = MultinomialNB()\n",
    "rf_classifier = RandomForestClassifier(n_estimators=100)\n",
    "svm_classifier = SVC(kernel='linear')\n",
    "\n"
   ]
  },
  {
   "cell_type": "markdown",
   "id": "2fbfc781",
   "metadata": {},
   "source": [
    "### Implementation\n",
    "\n",
    "\n",
    "Code Overview:\n",
    "The implementation involves several key components, each contributing to the overall workflow of the project:\n",
    "\n",
    "Data Loading and Preprocessing: The dataset is loaded into the environment and preprocessed using the steps outlined above. This includes tokenization, stopword removal, stemming/lemmatization, and vectorization.\n",
    "\n",
    "Model Building and Training:\n",
    "LSTM Model: The LSTM model is built using TensorFlow and Keras. It consists of an embedding layer, one or more LSTM layers, dropout layers for regularization, and a dense output layer for classification.\n",
    "\n",
    "SVM Model: The SVM model is implemented using Scikit-Learn. The data is vectorized and fed into the SVM classifier, which uses a linear or non-linear kernel function to classify the text samples.\n",
    "\n",
    "Hyperparameter Tuning:\n",
    "Grid Search for SVM: Hyperparameter tuning for the SVM model involves using GridSearchCV to explore a range of values for parameters such as the regularization parameter (C), kernel type, gamma, and degree.\n",
    "Random Search for LSTM: Hyperparameter tuning for the LSTM model can be done using RandomSearchCV or manual tuning to optimize parameters such as the number of LSTM units, dropout rate, learning rate, and batch size.\n",
    "Model Evaluation: Both models are evaluated on the test dataset using the defined performance metrics. The results are compared to determine the best-performing model."
   ]
  },
  {
   "cell_type": "code",
   "execution_count": 5,
   "id": "b7d44ef1",
   "metadata": {},
   "outputs": [
    {
     "name": "stdout",
     "output_type": "stream",
     "text": [
      "Evaluating classifiers with TF-IDF vectorizer:\n",
      "Logistic Regression with TF-IDF Accuracy: 0.99\n",
      "              precision    recall  f1-score   support\n",
      "\n",
      "           0       0.99      0.99      0.99      4733\n",
      "           1       0.98      0.99      0.99      4247\n",
      "\n",
      "    accuracy                           0.99      8980\n",
      "   macro avg       0.99      0.99      0.99      8980\n",
      "weighted avg       0.99      0.99      0.99      8980\n",
      "\n",
      "Multinomial Naive Bayes with TF-IDF Accuracy: 0.92\n",
      "              precision    recall  f1-score   support\n",
      "\n",
      "           0       0.92      0.93      0.93      4733\n",
      "           1       0.93      0.91      0.92      4247\n",
      "\n",
      "    accuracy                           0.92      8980\n",
      "   macro avg       0.92      0.92      0.92      8980\n",
      "weighted avg       0.92      0.92      0.92      8980\n",
      "\n",
      "Random Forest with TF-IDF Accuracy: 1.00\n",
      "              precision    recall  f1-score   support\n",
      "\n",
      "           0       1.00      1.00      1.00      4733\n",
      "           1       1.00      1.00      1.00      4247\n",
      "\n",
      "    accuracy                           1.00      8980\n",
      "   macro avg       1.00      1.00      1.00      8980\n",
      "weighted avg       1.00      1.00      1.00      8980\n",
      "\n",
      "Support Vector Machine with TF-IDF Accuracy: 0.99\n",
      "              precision    recall  f1-score   support\n",
      "\n",
      "           0       0.99      0.99      0.99      4733\n",
      "           1       0.99      0.99      0.99      4247\n",
      "\n",
      "    accuracy                           0.99      8980\n",
      "   macro avg       0.99      0.99      0.99      8980\n",
      "weighted avg       0.99      0.99      0.99      8980\n",
      "\n",
      "Evaluating classifiers with Count vectorizer:\n",
      "Logistic Regression with Count Vectorizer Accuracy: 1.00\n",
      "              precision    recall  f1-score   support\n",
      "\n",
      "           0       1.00      1.00      1.00      4733\n",
      "           1       0.99      1.00      1.00      4247\n",
      "\n",
      "    accuracy                           1.00      8980\n",
      "   macro avg       1.00      1.00      1.00      8980\n",
      "weighted avg       1.00      1.00      1.00      8980\n",
      "\n",
      "Multinomial Naive Bayes with Count Vectorizer Accuracy: 0.94\n",
      "              precision    recall  f1-score   support\n",
      "\n",
      "           0       0.94      0.94      0.94      4733\n",
      "           1       0.94      0.94      0.94      4247\n",
      "\n",
      "    accuracy                           0.94      8980\n",
      "   macro avg       0.94      0.94      0.94      8980\n",
      "weighted avg       0.94      0.94      0.94      8980\n",
      "\n",
      "Random Forest with Count Vectorizer Accuracy: 1.00\n",
      "              precision    recall  f1-score   support\n",
      "\n",
      "           0       1.00      1.00      1.00      4733\n",
      "           1       1.00      1.00      1.00      4247\n",
      "\n",
      "    accuracy                           1.00      8980\n",
      "   macro avg       1.00      1.00      1.00      8980\n",
      "weighted avg       1.00      1.00      1.00      8980\n",
      "\n",
      "Support Vector Machine with Count Vectorizer Accuracy: 0.99\n",
      "              precision    recall  f1-score   support\n",
      "\n",
      "           0       0.99      0.99      0.99      4733\n",
      "           1       0.99      0.99      0.99      4247\n",
      "\n",
      "    accuracy                           0.99      8980\n",
      "   macro avg       0.99      0.99      0.99      8980\n",
      "weighted avg       0.99      0.99      0.99      8980\n",
      "\n"
     ]
    }
   ],
   "source": [
    "# List of classifiers for iteration\n",
    "classifiers = {\n",
    "    'Logistic Regression': lr_classifier,\n",
    "    'Multinomial Naive Bayes': nb_classifier,\n",
    "    'Random Forest': rf_classifier,\n",
    "    'Support Vector Machine': svm_classifier\n",
    "}\n",
    "\n",
    "# Function to train and evaluate classifiers\n",
    "def evaluate_classifiers(vectorizer_name, X_train, X_test):\n",
    "    for clf_name, classifier in classifiers.items():\n",
    "        classifier.fit(X_train, y_train)\n",
    "        y_pred = classifier.predict(X_test)\n",
    "        accuracy = accuracy_score(y_test, y_pred)\n",
    "        print(f\"{clf_name} with {vectorizer_name} Accuracy: {accuracy:.2f}\")\n",
    "        print(classification_report(y_test, y_pred))\n",
    "\n",
    "# Evaluate classifiers with TF-IDF vectorizer\n",
    "print(\"Evaluating classifiers with TF-IDF vectorizer:\")\n",
    "evaluate_classifiers(\"TF-IDF\", X_train_tfidf, X_test_tfidf)\n",
    "\n",
    "# Evaluate classifiers with Count vectorizer\n",
    "print(\"Evaluating classifiers with Count vectorizer:\")\n",
    "evaluate_classifiers(\"Count Vectorizer\", X_train_count, X_test_count)"
   ]
  },
  {
   "cell_type": "markdown",
   "id": "5b780206",
   "metadata": {},
   "source": [
    "##### Naive Bayes from Scratch"
   ]
  },
  {
   "cell_type": "code",
   "execution_count": 6,
   "id": "221fdf6a",
   "metadata": {},
   "outputs": [
    {
     "name": "stdout",
     "output_type": "stream",
     "text": [
      "Naive Bayes from scratch Accuracy: 94.87%\n",
      "Classification Report for Naive Bayes from scratch:\n",
      "              precision    recall  f1-score   support\n",
      "\n",
      "           0       0.94      0.96      0.95      4733\n",
      "           1       0.96      0.93      0.94      4247\n",
      "\n",
      "    accuracy                           0.95      8980\n",
      "   macro avg       0.95      0.95      0.95      8980\n",
      "weighted avg       0.95      0.95      0.95      8980\n",
      "\n"
     ]
    }
   ],
   "source": [
    "class NaiveBayesClassifier:\n",
    "    def __init__(self):\n",
    "        self.log_class_priors = None\n",
    "        self.word_counts = None\n",
    "        self.vocab = None\n",
    "\n",
    "    def fit(self, X, y):\n",
    "        self.vocab = set(word for text in X for word in text.split())\n",
    "        self.word_counts = {label: {word: 0 for word in self.vocab} for label in np.unique(y)}\n",
    "        self.log_class_priors = {label: 0 for label in np.unique(y)}\n",
    "\n",
    "        for text, label in zip(X, y):\n",
    "            self.log_class_priors[label] += 1\n",
    "            for word in text.split():\n",
    "                if word in self.vocab:\n",
    "                    self.word_counts[label][word] += 1\n",
    "\n",
    "        total_docs = len(X)\n",
    "        self.log_class_priors = {label: np.log(count / total_docs) for label, count in self.log_class_priors.items()}\n",
    "\n",
    "        for label, counts in self.word_counts.items():\n",
    "            total_count = float(sum(counts.values()))\n",
    "            self.word_counts[label] = {word: (count + 1) / (total_count + len(self.vocab)) for word, count in counts.items()}\n",
    "\n",
    "    def predict(self, X):\n",
    "        result = []\n",
    "        for text in X:\n",
    "            class_scores = {label: self.log_class_priors[label] for label in self.log_class_priors.keys()}\n",
    "            words = set(text.split())\n",
    "            for word in words:\n",
    "                if word in self.vocab:\n",
    "                    for label in self.log_class_priors.keys():\n",
    "                        class_scores[label] += np.log(self.word_counts[label].get(word, 1 / (sum(self.word_counts[label].values()) + len(self.vocab))))\n",
    "\n",
    "            result.append(max(class_scores, key=class_scores.get))\n",
    "        return result\n",
    "\n",
    "# Initialize and train the classifier\n",
    "nb_classifier = NaiveBayesClassifier()\n",
    "nb_classifier.fit(X_train, y_train)\n",
    "\n",
    "# Predict and evaluate\n",
    "y_pred = nb_classifier.predict(X_test)\n",
    "accuracy = np.mean(y_pred == y_test)\n",
    "print(f\"Naive Bayes from scratch Accuracy: {accuracy:.2%}\")\n",
    "print(\"Classification Report for Naive Bayes from scratch:\")\n",
    "print(classification_report(y_test, y_pred))\n"
   ]
  },
  {
   "cell_type": "markdown",
   "id": "989b80be",
   "metadata": {},
   "source": [
    "##### Random Forest"
   ]
  },
  {
   "cell_type": "code",
   "execution_count": 7,
   "id": "eca0ca6e",
   "metadata": {},
   "outputs": [
    {
     "name": "stdout",
     "output_type": "stream",
     "text": [
      "Random Forest with TF-IDF Accuracy: 99.71%\n",
      "Classification Report for Random Forest with TF-IDF:\n",
      "              precision    recall  f1-score   support\n",
      "\n",
      "           0       1.00      1.00      1.00      4733\n",
      "           1       1.00      1.00      1.00      4247\n",
      "\n",
      "    accuracy                           1.00      8980\n",
      "   macro avg       1.00      1.00      1.00      8980\n",
      "weighted avg       1.00      1.00      1.00      8980\n",
      "\n",
      "Random Forest with Count Vectorizer Accuracy: 99.70%\n",
      "Classification Report for Random Forest with Count Vectorizer:\n",
      "              precision    recall  f1-score   support\n",
      "\n",
      "           0       1.00      1.00      1.00      4733\n",
      "           1       1.00      1.00      1.00      4247\n",
      "\n",
      "    accuracy                           1.00      8980\n",
      "   macro avg       1.00      1.00      1.00      8980\n",
      "weighted avg       1.00      1.00      1.00      8980\n",
      "\n"
     ]
    }
   ],
   "source": [
    "# Random Forest with TF-IDF\n",
    "rf_classifier_tfidf = RandomForestClassifier(n_estimators=100)\n",
    "rf_classifier_tfidf.fit(X_train_tfidf, y_train)\n",
    "rf_predictions_tfidf = rf_classifier_tfidf.predict(X_test_tfidf)\n",
    "rf_accuracy_tfidf = accuracy_score(y_test, rf_predictions_tfidf)\n",
    "print(f\"Random Forest with TF-IDF Accuracy: {rf_accuracy_tfidf:.2%}\")\n",
    "print(\"Classification Report for Random Forest with TF-IDF:\")\n",
    "print(classification_report(y_test, rf_predictions_tfidf))\n",
    "\n",
    "# Random Forest with Count Vectorizer\n",
    "rf_classifier_count = RandomForestClassifier(n_estimators=100)\n",
    "rf_classifier_count.fit(X_train_count, y_train)\n",
    "rf_predictions_count = rf_classifier_count.predict(X_test_count)\n",
    "rf_accuracy_count = accuracy_score(y_test, rf_predictions_count)\n",
    "print(f\"Random Forest with Count Vectorizer Accuracy: {rf_accuracy_count:.2%}\")\n",
    "print(\"Classification Report for Random Forest with Count Vectorizer:\")\n",
    "print(classification_report(y_test, rf_predictions_count))\n"
   ]
  },
  {
   "cell_type": "markdown",
   "id": "6d64580d",
   "metadata": {},
   "source": [
    "##### Support Vector Machine"
   ]
  },
  {
   "cell_type": "code",
   "execution_count": 8,
   "id": "827bf38f",
   "metadata": {},
   "outputs": [
    {
     "name": "stdout",
     "output_type": "stream",
     "text": [
      "SVM with TF-IDF Accuracy: 99.20%\n",
      "Classification Report for SVM with TF-IDF:\n",
      "              precision    recall  f1-score   support\n",
      "\n",
      "           0       0.99      0.99      0.99      4733\n",
      "           1       0.99      0.99      0.99      4247\n",
      "\n",
      "    accuracy                           0.99      8980\n",
      "   macro avg       0.99      0.99      0.99      8980\n",
      "weighted avg       0.99      0.99      0.99      8980\n",
      "\n",
      "SVM with Count Vectorizer Accuracy: 99.42%\n",
      "Classification Report for SVM with Count Vectorizer:\n",
      "              precision    recall  f1-score   support\n",
      "\n",
      "           0       0.99      0.99      0.99      4733\n",
      "           1       0.99      0.99      0.99      4247\n",
      "\n",
      "    accuracy                           0.99      8980\n",
      "   macro avg       0.99      0.99      0.99      8980\n",
      "weighted avg       0.99      0.99      0.99      8980\n",
      "\n"
     ]
    }
   ],
   "source": [
    "# SVM with TF-IDF\n",
    "svm_classifier_tfidf = SVC(kernel='linear')\n",
    "svm_classifier_tfidf.fit(X_train_tfidf, y_train)\n",
    "svm_predictions_tfidf = svm_classifier_tfidf.predict(X_test_tfidf)\n",
    "svm_accuracy_tfidf = accuracy_score(y_test, svm_predictions_tfidf)\n",
    "print(f\"SVM with TF-IDF Accuracy: {svm_accuracy_tfidf:.2%}\")\n",
    "print(\"Classification Report for SVM with TF-IDF:\")\n",
    "print(classification_report(y_test, svm_predictions_tfidf))\n",
    "\n",
    "# SVM with Count Vectorizer\n",
    "svm_classifier_count = SVC(kernel='linear')\n",
    "svm_classifier_count.fit(X_train_count, y_train)\n",
    "svm_predictions_count = svm_classifier_count.predict(X_test_count)\n",
    "svm_accuracy_count = accuracy_score(y_test, svm_predictions_count)\n",
    "print(f\"SVM with Count Vectorizer Accuracy: {svm_accuracy_count:.2%}\")\n",
    "print(\"Classification Report for SVM with Count Vectorizer:\")\n",
    "print(classification_report(y_test, svm_predictions_count))"
   ]
  },
  {
   "cell_type": "markdown",
   "id": "46fe25f3",
   "metadata": {},
   "source": [
    "### Deep Learning Models"
   ]
  },
  {
   "cell_type": "markdown",
   "id": "eb312432",
   "metadata": {},
   "source": [
    "##### LSTM Model"
   ]
  },
  {
   "cell_type": "code",
   "execution_count": 9,
   "id": "84f0da62",
   "metadata": {},
   "outputs": [
    {
     "name": "stderr",
     "output_type": "stream",
     "text": [
      "C:\\Users\\ASUS\\anaconda3\\Lib\\site-packages\\keras\\src\\layers\\core\\embedding.py:90: UserWarning: Argument `input_length` is deprecated. Just remove it.\n",
      "  warnings.warn(\n"
     ]
    },
    {
     "data": {
      "text/html": [
       "<pre style=\"white-space:pre;overflow-x:auto;line-height:normal;font-family:Menlo,'DejaVu Sans Mono',consolas,'Courier New',monospace\"><span style=\"font-weight: bold\">Model: \"sequential\"</span>\n",
       "</pre>\n"
      ],
      "text/plain": [
       "\u001b[1mModel: \"sequential\"\u001b[0m\n"
      ]
     },
     "metadata": {},
     "output_type": "display_data"
    },
    {
     "data": {
      "text/html": [
       "<pre style=\"white-space:pre;overflow-x:auto;line-height:normal;font-family:Menlo,'DejaVu Sans Mono',consolas,'Courier New',monospace\">┏━━━━━━━━━━━━━━━━━━━━━━━━━━━━━━━━━┳━━━━━━━━━━━━━━━━━━━━━━━━┳━━━━━━━━━━━━━━━┓\n",
       "┃<span style=\"font-weight: bold\"> Layer (type)                    </span>┃<span style=\"font-weight: bold\"> Output Shape           </span>┃<span style=\"font-weight: bold\">       Param # </span>┃\n",
       "┡━━━━━━━━━━━━━━━━━━━━━━━━━━━━━━━━━╇━━━━━━━━━━━━━━━━━━━━━━━━╇━━━━━━━━━━━━━━━┩\n",
       "│ embedding (<span style=\"color: #0087ff; text-decoration-color: #0087ff\">Embedding</span>)           │ ?                      │   <span style=\"color: #00af00; text-decoration-color: #00af00\">0</span> (unbuilt) │\n",
       "├─────────────────────────────────┼────────────────────────┼───────────────┤\n",
       "│ spatial_dropout1d               │ ?                      │   <span style=\"color: #00af00; text-decoration-color: #00af00\">0</span> (unbuilt) │\n",
       "│ (<span style=\"color: #0087ff; text-decoration-color: #0087ff\">SpatialDropout1D</span>)              │                        │               │\n",
       "├─────────────────────────────────┼────────────────────────┼───────────────┤\n",
       "│ lstm (<span style=\"color: #0087ff; text-decoration-color: #0087ff\">LSTM</span>)                     │ ?                      │   <span style=\"color: #00af00; text-decoration-color: #00af00\">0</span> (unbuilt) │\n",
       "├─────────────────────────────────┼────────────────────────┼───────────────┤\n",
       "│ dense (<span style=\"color: #0087ff; text-decoration-color: #0087ff\">Dense</span>)                   │ ?                      │   <span style=\"color: #00af00; text-decoration-color: #00af00\">0</span> (unbuilt) │\n",
       "└─────────────────────────────────┴────────────────────────┴───────────────┘\n",
       "</pre>\n"
      ],
      "text/plain": [
       "┏━━━━━━━━━━━━━━━━━━━━━━━━━━━━━━━━━┳━━━━━━━━━━━━━━━━━━━━━━━━┳━━━━━━━━━━━━━━━┓\n",
       "┃\u001b[1m \u001b[0m\u001b[1mLayer (type)                   \u001b[0m\u001b[1m \u001b[0m┃\u001b[1m \u001b[0m\u001b[1mOutput Shape          \u001b[0m\u001b[1m \u001b[0m┃\u001b[1m \u001b[0m\u001b[1m      Param #\u001b[0m\u001b[1m \u001b[0m┃\n",
       "┡━━━━━━━━━━━━━━━━━━━━━━━━━━━━━━━━━╇━━━━━━━━━━━━━━━━━━━━━━━━╇━━━━━━━━━━━━━━━┩\n",
       "│ embedding (\u001b[38;5;33mEmbedding\u001b[0m)           │ ?                      │   \u001b[38;5;34m0\u001b[0m (unbuilt) │\n",
       "├─────────────────────────────────┼────────────────────────┼───────────────┤\n",
       "│ spatial_dropout1d               │ ?                      │   \u001b[38;5;34m0\u001b[0m (unbuilt) │\n",
       "│ (\u001b[38;5;33mSpatialDropout1D\u001b[0m)              │                        │               │\n",
       "├─────────────────────────────────┼────────────────────────┼───────────────┤\n",
       "│ lstm (\u001b[38;5;33mLSTM\u001b[0m)                     │ ?                      │   \u001b[38;5;34m0\u001b[0m (unbuilt) │\n",
       "├─────────────────────────────────┼────────────────────────┼───────────────┤\n",
       "│ dense (\u001b[38;5;33mDense\u001b[0m)                   │ ?                      │   \u001b[38;5;34m0\u001b[0m (unbuilt) │\n",
       "└─────────────────────────────────┴────────────────────────┴───────────────┘\n"
      ]
     },
     "metadata": {},
     "output_type": "display_data"
    },
    {
     "data": {
      "text/html": [
       "<pre style=\"white-space:pre;overflow-x:auto;line-height:normal;font-family:Menlo,'DejaVu Sans Mono',consolas,'Courier New',monospace\"><span style=\"font-weight: bold\"> Total params: </span><span style=\"color: #00af00; text-decoration-color: #00af00\">0</span> (0.00 B)\n",
       "</pre>\n"
      ],
      "text/plain": [
       "\u001b[1m Total params: \u001b[0m\u001b[38;5;34m0\u001b[0m (0.00 B)\n"
      ]
     },
     "metadata": {},
     "output_type": "display_data"
    },
    {
     "data": {
      "text/html": [
       "<pre style=\"white-space:pre;overflow-x:auto;line-height:normal;font-family:Menlo,'DejaVu Sans Mono',consolas,'Courier New',monospace\"><span style=\"font-weight: bold\"> Trainable params: </span><span style=\"color: #00af00; text-decoration-color: #00af00\">0</span> (0.00 B)\n",
       "</pre>\n"
      ],
      "text/plain": [
       "\u001b[1m Trainable params: \u001b[0m\u001b[38;5;34m0\u001b[0m (0.00 B)\n"
      ]
     },
     "metadata": {},
     "output_type": "display_data"
    },
    {
     "data": {
      "text/html": [
       "<pre style=\"white-space:pre;overflow-x:auto;line-height:normal;font-family:Menlo,'DejaVu Sans Mono',consolas,'Courier New',monospace\"><span style=\"font-weight: bold\"> Non-trainable params: </span><span style=\"color: #00af00; text-decoration-color: #00af00\">0</span> (0.00 B)\n",
       "</pre>\n"
      ],
      "text/plain": [
       "\u001b[1m Non-trainable params: \u001b[0m\u001b[38;5;34m0\u001b[0m (0.00 B)\n"
      ]
     },
     "metadata": {},
     "output_type": "display_data"
    },
    {
     "name": "stdout",
     "output_type": "stream",
     "text": [
      "None\n",
      "Epoch 1/5\n",
      "\u001b[1m898/898\u001b[0m \u001b[32m━━━━━━━━━━━━━━━━━━━━\u001b[0m\u001b[37m\u001b[0m \u001b[1m89s\u001b[0m 96ms/step - accuracy: 0.9082 - loss: 0.2383 - val_accuracy: 0.9353 - val_loss: 0.1729\n",
      "Epoch 2/5\n",
      "\u001b[1m898/898\u001b[0m \u001b[32m━━━━━━━━━━━━━━━━━━━━\u001b[0m\u001b[37m\u001b[0m \u001b[1m84s\u001b[0m 93ms/step - accuracy: 0.9591 - loss: 0.1126 - val_accuracy: 0.9780 - val_loss: 0.0730\n",
      "Epoch 3/5\n",
      "\u001b[1m898/898\u001b[0m \u001b[32m━━━━━━━━━━━━━━━━━━━━\u001b[0m\u001b[37m\u001b[0m \u001b[1m84s\u001b[0m 94ms/step - accuracy: 0.9817 - loss: 0.0573 - val_accuracy: 0.9833 - val_loss: 0.0549\n",
      "Epoch 4/5\n",
      "\u001b[1m898/898\u001b[0m \u001b[32m━━━━━━━━━━━━━━━━━━━━\u001b[0m\u001b[37m\u001b[0m \u001b[1m85s\u001b[0m 95ms/step - accuracy: 0.9861 - loss: 0.0433 - val_accuracy: 0.9855 - val_loss: 0.0378\n",
      "Epoch 5/5\n",
      "\u001b[1m898/898\u001b[0m \u001b[32m━━━━━━━━━━━━━━━━━━━━\u001b[0m\u001b[37m\u001b[0m \u001b[1m84s\u001b[0m 93ms/step - accuracy: 0.9928 - loss: 0.0232 - val_accuracy: 0.9878 - val_loss: 0.0385\n",
      "\u001b[1m281/281\u001b[0m \u001b[32m━━━━━━━━━━━━━━━━━━━━\u001b[0m\u001b[37m\u001b[0m \u001b[1m9s\u001b[0m 34ms/step - accuracy: 0.9888 - loss: 0.0344\n",
      "LSTM Accuracy: 0.99\n",
      "\u001b[1m281/281\u001b[0m \u001b[32m━━━━━━━━━━━━━━━━━━━━\u001b[0m\u001b[37m\u001b[0m \u001b[1m9s\u001b[0m 33ms/step\n",
      "LSTM Classification Report:\n",
      "              precision    recall  f1-score   support\n",
      "\n",
      "           0       1.00      0.98      0.99      4733\n",
      "           1       0.98      1.00      0.99      4247\n",
      "\n",
      "    accuracy                           0.99      8980\n",
      "   macro avg       0.99      0.99      0.99      8980\n",
      "weighted avg       0.99      0.99      0.99      8980\n",
      "\n"
     ]
    }
   ],
   "source": [
    "# Tokenize and pad sequences for LSTM\n",
    "tokenizer = Tokenizer(num_words=5000)\n",
    "tokenizer.fit_on_texts(X_train)\n",
    "\n",
    "X_train_seq = tokenizer.texts_to_sequences(X_train)\n",
    "X_test_seq = tokenizer.texts_to_sequences(X_test)\n",
    "\n",
    "max_sequence_length = 250\n",
    "X_train_padded = pad_sequences(X_train_seq, maxlen=max_sequence_length)\n",
    "X_test_padded = pad_sequences(X_test_seq, maxlen=max_sequence_length)\n",
    "\n",
    "# Define the LSTM model\n",
    "lstm_model = Sequential()\n",
    "lstm_model.add(Embedding(5000, 128, input_length=max_sequence_length))\n",
    "lstm_model.add(SpatialDropout1D(0.2))\n",
    "lstm_model.add(LSTM(128, dropout=0.2, recurrent_dropout=0.2))\n",
    "lstm_model.add(Dense(1, activation='sigmoid'))\n",
    "\n",
    "# Compile the model\n",
    "lstm_model.compile(loss='binary_crossentropy', optimizer='adam', metrics=['accuracy'])\n",
    "\n",
    "# Print model summary\n",
    "print(lstm_model.summary())\n",
    "\n",
    "# Train the LSTM model\n",
    "history = lstm_model.fit(X_train_padded, y_train, epochs=5, batch_size=32, validation_split=0.2)\n",
    "\n",
    "# Evaluate on test data\n",
    "lstm_loss, lstm_accuracy = lstm_model.evaluate(X_test_padded, y_test)\n",
    "print(f\"LSTM Accuracy: {lstm_accuracy:.2f}\")\n",
    "\n",
    "# Predictions on test data\n",
    "lstm_predictions = (lstm_model.predict(X_test_padded) > 0.5).astype(\"int32\")\n",
    "\n",
    "# Classification report\n",
    "print(\"LSTM Classification Report:\")\n",
    "print(classification_report(y_test, lstm_predictions))\n"
   ]
  },
  {
   "cell_type": "markdown",
   "id": "ed6451b8",
   "metadata": {},
   "source": [
    "### Hyperparameter Tuning Approach"
   ]
  },
  {
   "cell_type": "markdown",
   "id": "2482e0c3",
   "metadata": {},
   "source": [
    "###### 1. Logistic Regression : \n",
    "\n",
    "Logistic Regression is a linear model whose performance can be influenced by regularization strength (C parameter) and solver choice."
   ]
  },
  {
   "cell_type": "code",
   "execution_count": 10,
   "id": "cc48aed6",
   "metadata": {},
   "outputs": [
    {
     "name": "stdout",
     "output_type": "stream",
     "text": [
      "Fitting 5 folds for each of 6 candidates, totalling 30 fits\n",
      "Best Parameters for Logistic Regression (TF-IDF): {'C': 10.0, 'solver': 'liblinear'}\n",
      "Best Accuracy Score for Logistic Regression (TF-IDF): 0.9906731922719041\n",
      "Classification Report for Logistic Regression (TF-IDF):\n",
      "              precision    recall  f1-score   support\n",
      "\n",
      "           0       0.99      0.99      0.99      4733\n",
      "           1       0.99      0.99      0.99      4247\n",
      "\n",
      "    accuracy                           0.99      8980\n",
      "   macro avg       0.99      0.99      0.99      8980\n",
      "weighted avg       0.99      0.99      0.99      8980\n",
      "\n",
      "Fitting 5 folds for each of 6 candidates, totalling 30 fits\n"
     ]
    },
    {
     "name": "stderr",
     "output_type": "stream",
     "text": [
      "C:\\Users\\ASUS\\anaconda3\\Lib\\site-packages\\sklearn\\linear_model\\_sag.py:350: ConvergenceWarning: The max_iter was reached which means the coef_ did not converge\n",
      "  warnings.warn(\n",
      "C:\\Users\\ASUS\\anaconda3\\Lib\\site-packages\\sklearn\\linear_model\\_sag.py:350: ConvergenceWarning: The max_iter was reached which means the coef_ did not converge\n",
      "  warnings.warn(\n",
      "C:\\Users\\ASUS\\anaconda3\\Lib\\site-packages\\sklearn\\linear_model\\_sag.py:350: ConvergenceWarning: The max_iter was reached which means the coef_ did not converge\n",
      "  warnings.warn(\n",
      "C:\\Users\\ASUS\\anaconda3\\Lib\\site-packages\\sklearn\\linear_model\\_sag.py:350: ConvergenceWarning: The max_iter was reached which means the coef_ did not converge\n",
      "  warnings.warn(\n",
      "C:\\Users\\ASUS\\anaconda3\\Lib\\site-packages\\sklearn\\linear_model\\_sag.py:350: ConvergenceWarning: The max_iter was reached which means the coef_ did not converge\n",
      "  warnings.warn(\n",
      "C:\\Users\\ASUS\\anaconda3\\Lib\\site-packages\\sklearn\\linear_model\\_sag.py:350: ConvergenceWarning: The max_iter was reached which means the coef_ did not converge\n",
      "  warnings.warn(\n",
      "C:\\Users\\ASUS\\anaconda3\\Lib\\site-packages\\sklearn\\linear_model\\_sag.py:350: ConvergenceWarning: The max_iter was reached which means the coef_ did not converge\n",
      "  warnings.warn(\n",
      "C:\\Users\\ASUS\\anaconda3\\Lib\\site-packages\\sklearn\\linear_model\\_sag.py:350: ConvergenceWarning: The max_iter was reached which means the coef_ did not converge\n",
      "  warnings.warn(\n",
      "C:\\Users\\ASUS\\anaconda3\\Lib\\site-packages\\sklearn\\linear_model\\_sag.py:350: ConvergenceWarning: The max_iter was reached which means the coef_ did not converge\n",
      "  warnings.warn(\n",
      "C:\\Users\\ASUS\\anaconda3\\Lib\\site-packages\\sklearn\\linear_model\\_sag.py:350: ConvergenceWarning: The max_iter was reached which means the coef_ did not converge\n",
      "  warnings.warn(\n",
      "C:\\Users\\ASUS\\anaconda3\\Lib\\site-packages\\sklearn\\linear_model\\_sag.py:350: ConvergenceWarning: The max_iter was reached which means the coef_ did not converge\n",
      "  warnings.warn(\n",
      "C:\\Users\\ASUS\\anaconda3\\Lib\\site-packages\\sklearn\\linear_model\\_sag.py:350: ConvergenceWarning: The max_iter was reached which means the coef_ did not converge\n",
      "  warnings.warn(\n",
      "C:\\Users\\ASUS\\anaconda3\\Lib\\site-packages\\sklearn\\linear_model\\_sag.py:350: ConvergenceWarning: The max_iter was reached which means the coef_ did not converge\n",
      "  warnings.warn(\n",
      "C:\\Users\\ASUS\\anaconda3\\Lib\\site-packages\\sklearn\\linear_model\\_sag.py:350: ConvergenceWarning: The max_iter was reached which means the coef_ did not converge\n",
      "  warnings.warn(\n",
      "C:\\Users\\ASUS\\anaconda3\\Lib\\site-packages\\sklearn\\linear_model\\_sag.py:350: ConvergenceWarning: The max_iter was reached which means the coef_ did not converge\n",
      "  warnings.warn(\n"
     ]
    },
    {
     "name": "stdout",
     "output_type": "stream",
     "text": [
      "Best Parameters for Logistic Regression (Count Vectorizer): {'C': 1.0, 'solver': 'liblinear'}\n",
      "Best Accuracy Score for Logistic Regression (Count Vectorizer): 0.9949329019241485\n",
      "Classification Report for Logistic Regression (Count Vectorizer):\n",
      "              precision    recall  f1-score   support\n",
      "\n",
      "           0       1.00      1.00      1.00      4733\n",
      "           1       0.99      1.00      1.00      4247\n",
      "\n",
      "    accuracy                           1.00      8980\n",
      "   macro avg       1.00      1.00      1.00      8980\n",
      "weighted avg       1.00      1.00      1.00      8980\n",
      "\n"
     ]
    }
   ],
   "source": [
    "# Define parameter grid for Logistic Regression\n",
    "param_grid_lr = {\n",
    "    'C': [0.1, 1.0, 10.0],\n",
    "    'solver': ['liblinear', 'saga']\n",
    "}\n",
    "\n",
    "# Initialize GridSearchCV for Logistic Regression\n",
    "grid_search_lr = GridSearchCV(estimator=LogisticRegression(max_iter=1000, class_weight='balanced'),\n",
    "                              param_grid=param_grid_lr,\n",
    "                              cv=5,\n",
    "                              scoring='accuracy',\n",
    "                              verbose=1)\n",
    "\n",
    "# Fit GridSearchCV using TF-IDF vectorized data\n",
    "grid_search_lr.fit(X_train_tfidf, y_train)\n",
    "\n",
    "# Print best parameters and best score\n",
    "print(\"Best Parameters for Logistic Regression (TF-IDF):\", grid_search_lr.best_params_)\n",
    "print(\"Best Accuracy Score for Logistic Regression (TF-IDF):\", grid_search_lr.best_score_)\n",
    "\n",
    "# Evaluate on test data using best estimator\n",
    "best_lr_tfidf = grid_search_lr.best_estimator_\n",
    "y_pred_lr_tfidf = best_lr_tfidf.predict(X_test_tfidf)\n",
    "print(\"Classification Report for Logistic Regression (TF-IDF):\")\n",
    "print(classification_report(y_test, y_pred_lr_tfidf))\n",
    "\n",
    "# Repeat for Count Vectorizer\n",
    "grid_search_lr.fit(X_train_count, y_train)\n",
    "print(\"Best Parameters for Logistic Regression (Count Vectorizer):\", grid_search_lr.best_params_)\n",
    "print(\"Best Accuracy Score for Logistic Regression (Count Vectorizer):\", grid_search_lr.best_score_)\n",
    "best_lr_count = grid_search_lr.best_estimator_\n",
    "y_pred_lr_count = best_lr_count.predict(X_test_count)\n",
    "print(\"Classification Report for Logistic Regression (Count Vectorizer):\")\n",
    "print(classification_report(y_test, y_pred_lr_count))\n"
   ]
  },
  {
   "cell_type": "markdown",
   "id": "4a0ab875",
   "metadata": {},
   "source": [
    "###### 2. Multinomial Naive Bayes:\n",
    "\n",
    "For Multinomial Naive Bayes, the alpha smoothing parameter (alpha) can be tuned to improve performance."
   ]
  },
  {
   "cell_type": "code",
   "execution_count": 11,
   "id": "2c2b03e2",
   "metadata": {},
   "outputs": [
    {
     "name": "stdout",
     "output_type": "stream",
     "text": [
      "Fitting 5 folds for each of 4 candidates, totalling 20 fits\n",
      "Best Parameters for Multinomial Naive Bayes (TF-IDF): {'alpha': 0.1}\n",
      "Best Accuracy Score for Multinomial Naive Bayes (TF-IDF): 0.9276686098735354\n",
      "Classification Report for Multinomial Naive Bayes (TF-IDF):\n",
      "              precision    recall  f1-score   support\n",
      "\n",
      "           0       0.92      0.94      0.93      4733\n",
      "           1       0.93      0.91      0.92      4247\n",
      "\n",
      "    accuracy                           0.92      8980\n",
      "   macro avg       0.92      0.92      0.92      8980\n",
      "weighted avg       0.92      0.92      0.92      8980\n",
      "\n",
      "Fitting 5 folds for each of 4 candidates, totalling 20 fits\n",
      "Best Parameters for Multinomial Naive Bayes (Count Vectorizer): {'alpha': 0.1}\n",
      "Best Accuracy Score for Multinomial Naive Bayes (Count Vectorizer): 0.9438722397940944\n",
      "Classification Report for Multinomial Naive Bayes (Count Vectorizer):\n",
      "              precision    recall  f1-score   support\n",
      "\n",
      "           0       0.94      0.94      0.94      4733\n",
      "           1       0.94      0.94      0.94      4247\n",
      "\n",
      "    accuracy                           0.94      8980\n",
      "   macro avg       0.94      0.94      0.94      8980\n",
      "weighted avg       0.94      0.94      0.94      8980\n",
      "\n"
     ]
    }
   ],
   "source": [
    "# Define parameter grid for Multinomial Naive Bayes\n",
    "param_grid_nb = {\n",
    "    'alpha': [0.1, 0.5, 1.0, 2.0]\n",
    "}\n",
    "\n",
    "# Initialize GridSearchCV for Multinomial Naive Bayes\n",
    "grid_search_nb = GridSearchCV(estimator=MultinomialNB(),\n",
    "                              param_grid=param_grid_nb,\n",
    "                              cv=5,\n",
    "                              scoring='accuracy',\n",
    "                              verbose=1)\n",
    "\n",
    "# Fit GridSearchCV using TF-IDF vectorized data\n",
    "grid_search_nb.fit(X_train_tfidf, y_train)\n",
    "print(\"Best Parameters for Multinomial Naive Bayes (TF-IDF):\", grid_search_nb.best_params_)\n",
    "print(\"Best Accuracy Score for Multinomial Naive Bayes (TF-IDF):\", grid_search_nb.best_score_)\n",
    "best_nb_tfidf = grid_search_nb.best_estimator_\n",
    "y_pred_nb_tfidf = best_nb_tfidf.predict(X_test_tfidf)\n",
    "print(\"Classification Report for Multinomial Naive Bayes (TF-IDF):\")\n",
    "print(classification_report(y_test, y_pred_nb_tfidf))\n",
    "\n",
    "# Repeat for Count Vectorizer\n",
    "grid_search_nb.fit(X_train_count, y_train)\n",
    "print(\"Best Parameters for Multinomial Naive Bayes (Count Vectorizer):\", grid_search_nb.best_params_)\n",
    "print(\"Best Accuracy Score for Multinomial Naive Bayes (Count Vectorizer):\", grid_search_nb.best_score_)\n",
    "best_nb_count = grid_search_nb.best_estimator_\n",
    "y_pred_nb_count = best_nb_count.predict(X_test_count)\n",
    "print(\"Classification Report for Multinomial Naive Bayes (Count Vectorizer):\")\n",
    "print(classification_report(y_test, y_pred_nb_count))\n"
   ]
  },
  {
   "cell_type": "markdown",
   "id": "7561048d",
   "metadata": {},
   "source": [
    "##### 3. Random Forest :\n",
    "Random Forest's performance can be optimized by adjusting the number of trees (n_estimators) and maximum depth of trees (max_depth).\n",
    "\n"
   ]
  },
  {
   "cell_type": "code",
   "execution_count": 12,
   "id": "46f65849",
   "metadata": {},
   "outputs": [
    {
     "name": "stdout",
     "output_type": "stream",
     "text": [
      "Fitting 5 folds for each of 9 candidates, totalling 45 fits\n",
      "Best Parameters for Random Forest (TF-IDF): {'max_depth': None, 'n_estimators': 200}\n",
      "Best Accuracy Score for Random Forest (TF-IDF): 0.9968818165074863\n",
      "Classification Report for Random Forest (TF-IDF):\n",
      "              precision    recall  f1-score   support\n",
      "\n",
      "           0       1.00      1.00      1.00      4733\n",
      "           1       1.00      1.00      1.00      4247\n",
      "\n",
      "    accuracy                           1.00      8980\n",
      "   macro avg       1.00      1.00      1.00      8980\n",
      "weighted avg       1.00      1.00      1.00      8980\n",
      "\n",
      "Fitting 5 folds for each of 9 candidates, totalling 45 fits\n",
      "Best Parameters for Random Forest (Count Vectorizer): {'max_depth': None, 'n_estimators': 300}\n",
      "Best Accuracy Score for Random Forest (Count Vectorizer): 0.9970488466178651\n",
      "Classification Report for Random Forest (Count Vectorizer):\n",
      "              precision    recall  f1-score   support\n",
      "\n",
      "           0       1.00      1.00      1.00      4733\n",
      "           1       1.00      1.00      1.00      4247\n",
      "\n",
      "    accuracy                           1.00      8980\n",
      "   macro avg       1.00      1.00      1.00      8980\n",
      "weighted avg       1.00      1.00      1.00      8980\n",
      "\n"
     ]
    }
   ],
   "source": [
    "# Define parameter grid for Random Forest\n",
    "param_grid_rf = {\n",
    "    'n_estimators': [100, 200, 300],\n",
    "    'max_depth': [None, 10, 20]\n",
    "}\n",
    "\n",
    "# Initialize GridSearchCV for Random Forest\n",
    "grid_search_rf = GridSearchCV(estimator=RandomForestClassifier(),\n",
    "                              param_grid=param_grid_rf,\n",
    "                              cv=5,\n",
    "                              scoring='accuracy',\n",
    "                              verbose=1)\n",
    "\n",
    "# Fit GridSearchCV using TF-IDF vectorized data\n",
    "grid_search_rf.fit(X_train_tfidf, y_train)\n",
    "print(\"Best Parameters for Random Forest (TF-IDF):\", grid_search_rf.best_params_)\n",
    "print(\"Best Accuracy Score for Random Forest (TF-IDF):\", grid_search_rf.best_score_)\n",
    "best_rf_tfidf = grid_search_rf.best_estimator_\n",
    "y_pred_rf_tfidf = best_rf_tfidf.predict(X_test_tfidf)\n",
    "print(\"Classification Report for Random Forest (TF-IDF):\")\n",
    "print(classification_report(y_test, y_pred_rf_tfidf))\n",
    "\n",
    "# Repeat for Count Vectorizer\n",
    "grid_search_rf.fit(X_train_count, y_train)\n",
    "print(\"Best Parameters for Random Forest (Count Vectorizer):\", grid_search_rf.best_params_)\n",
    "print(\"Best Accuracy Score for Random Forest (Count Vectorizer):\", grid_search_rf.best_score_)\n",
    "best_rf_count = grid_search_rf.best_estimator_\n",
    "y_pred_rf_count = best_rf_count.predict(X_test_count)\n",
    "print(\"Classification Report for Random Forest (Count Vectorizer):\")\n",
    "print(classification_report(y_test, y_pred_rf_count))\n"
   ]
  },
  {
   "cell_type": "markdown",
   "id": "78d93979",
   "metadata": {},
   "source": [
    "##### 4. Support Vector Machine (SVM)\n",
    "SVM's performance can be fine-tuned by adjusting the regularization parameter (C) and kernel choice (kernel)."
   ]
  },
  {
   "cell_type": "code",
   "execution_count": 13,
   "id": "dd9ddf63",
   "metadata": {},
   "outputs": [
    {
     "name": "stdout",
     "output_type": "stream",
     "text": [
      "Fitting 5 folds for each of 480 candidates, totalling 2400 fits\n",
      "Best parameters: {'C': 0.1, 'degree': 2, 'gamma': 'auto', 'kernel': 'poly'}\n",
      "Best score: 0.9866666666666667\n",
      "Classification report:\n",
      "               precision    recall  f1-score   support\n",
      "\n",
      "           0       1.00      1.00      1.00        50\n",
      "           1       1.00      0.98      0.99        50\n",
      "           2       0.98      1.00      0.99        50\n",
      "\n",
      "    accuracy                           0.99       150\n",
      "   macro avg       0.99      0.99      0.99       150\n",
      "weighted avg       0.99      0.99      0.99       150\n",
      "\n",
      "Accuracy: 0.9933333333333333\n"
     ]
    }
   ],
   "source": [
    "# Example dataset\n",
    "from sklearn.datasets import load_iris\n",
    "X, y = load_iris(return_X_y=True)\n",
    "\n",
    "# Define the model\n",
    "model = SVC()\n",
    "\n",
    "# Set up the hyperparameter grid\n",
    "param_grid = {\n",
    "    'C': [0.1, 1, 10, 100],  # Regularization parameter\n",
    "    'gamma': ['scale', 'auto', 0.1, 1, 10, 100],  # Kernel coefficient\n",
    "    'kernel': ['linear', 'rbf', 'poly', 'sigmoid'],  # Type of kernel\n",
    "    'degree': [1, 2, 3, 4, 5]  # Degree of the polynomial kernel function\n",
    "}\n",
    "\n",
    "# Setup the GridSearchCV\n",
    "grid_search = GridSearchCV(estimator=model, param_grid=param_grid, cv=5, verbose=2, n_jobs=-1)\n",
    "\n",
    "# Fit the grid search to the data\n",
    "grid_search.fit(X, y)\n",
    "\n",
    "# Print the best parameters and best score\n",
    "print(\"Best parameters:\", grid_search.best_params_)\n",
    "print(\"Best score:\", grid_search.best_score_)\n",
    "\n",
    "# Optional: Evaluate the best model on test data\n",
    "best_model = grid_search.best_estimator_\n",
    "predictions = best_model.predict(X)  # Assuming you have a test set\n",
    "print(\"Classification report:\\n\", classification_report(y, predictions))\n",
    "print(\"Accuracy:\", accuracy_score(y, predictions))"
   ]
  },
  {
   "cell_type": "markdown",
   "id": "692d421e",
   "metadata": {},
   "source": [
    "Hyperparameter Tuning for LSTM :\n",
    "For deep learning models like LSTM, we typically use libraries such as KerasTuner for hyperparameter tuning. Below is an example of how to set this up:"
   ]
  },
  {
   "cell_type": "code",
   "execution_count": 14,
   "id": "75776546",
   "metadata": {},
   "outputs": [
    {
     "data": {
      "text/html": [
       "<pre style=\"white-space:pre;overflow-x:auto;line-height:normal;font-family:Menlo,'DejaVu Sans Mono',consolas,'Courier New',monospace\"><span style=\"font-weight: bold\">Model: \"sequential_1\"</span>\n",
       "</pre>\n"
      ],
      "text/plain": [
       "\u001b[1mModel: \"sequential_1\"\u001b[0m\n"
      ]
     },
     "metadata": {},
     "output_type": "display_data"
    },
    {
     "data": {
      "text/html": [
       "<pre style=\"white-space:pre;overflow-x:auto;line-height:normal;font-family:Menlo,'DejaVu Sans Mono',consolas,'Courier New',monospace\">┏━━━━━━━━━━━━━━━━━━━━━━━━━━━━━━━━━┳━━━━━━━━━━━━━━━━━━━━━━━━┳━━━━━━━━━━━━━━━┓\n",
       "┃<span style=\"font-weight: bold\"> Layer (type)                    </span>┃<span style=\"font-weight: bold\"> Output Shape           </span>┃<span style=\"font-weight: bold\">       Param # </span>┃\n",
       "┡━━━━━━━━━━━━━━━━━━━━━━━━━━━━━━━━━╇━━━━━━━━━━━━━━━━━━━━━━━━╇━━━━━━━━━━━━━━━┩\n",
       "│ embedding_1 (<span style=\"color: #0087ff; text-decoration-color: #0087ff\">Embedding</span>)         │ ?                      │   <span style=\"color: #00af00; text-decoration-color: #00af00\">0</span> (unbuilt) │\n",
       "├─────────────────────────────────┼────────────────────────┼───────────────┤\n",
       "│ lstm_1 (<span style=\"color: #0087ff; text-decoration-color: #0087ff\">LSTM</span>)                   │ ?                      │   <span style=\"color: #00af00; text-decoration-color: #00af00\">0</span> (unbuilt) │\n",
       "├─────────────────────────────────┼────────────────────────┼───────────────┤\n",
       "│ dropout (<span style=\"color: #0087ff; text-decoration-color: #0087ff\">Dropout</span>)               │ ?                      │   <span style=\"color: #00af00; text-decoration-color: #00af00\">0</span> (unbuilt) │\n",
       "├─────────────────────────────────┼────────────────────────┼───────────────┤\n",
       "│ lstm_2 (<span style=\"color: #0087ff; text-decoration-color: #0087ff\">LSTM</span>)                   │ ?                      │   <span style=\"color: #00af00; text-decoration-color: #00af00\">0</span> (unbuilt) │\n",
       "├─────────────────────────────────┼────────────────────────┼───────────────┤\n",
       "│ dropout_1 (<span style=\"color: #0087ff; text-decoration-color: #0087ff\">Dropout</span>)             │ ?                      │   <span style=\"color: #00af00; text-decoration-color: #00af00\">0</span> (unbuilt) │\n",
       "├─────────────────────────────────┼────────────────────────┼───────────────┤\n",
       "│ dense_1 (<span style=\"color: #0087ff; text-decoration-color: #0087ff\">Dense</span>)                 │ ?                      │   <span style=\"color: #00af00; text-decoration-color: #00af00\">0</span> (unbuilt) │\n",
       "└─────────────────────────────────┴────────────────────────┴───────────────┘\n",
       "</pre>\n"
      ],
      "text/plain": [
       "┏━━━━━━━━━━━━━━━━━━━━━━━━━━━━━━━━━┳━━━━━━━━━━━━━━━━━━━━━━━━┳━━━━━━━━━━━━━━━┓\n",
       "┃\u001b[1m \u001b[0m\u001b[1mLayer (type)                   \u001b[0m\u001b[1m \u001b[0m┃\u001b[1m \u001b[0m\u001b[1mOutput Shape          \u001b[0m\u001b[1m \u001b[0m┃\u001b[1m \u001b[0m\u001b[1m      Param #\u001b[0m\u001b[1m \u001b[0m┃\n",
       "┡━━━━━━━━━━━━━━━━━━━━━━━━━━━━━━━━━╇━━━━━━━━━━━━━━━━━━━━━━━━╇━━━━━━━━━━━━━━━┩\n",
       "│ embedding_1 (\u001b[38;5;33mEmbedding\u001b[0m)         │ ?                      │   \u001b[38;5;34m0\u001b[0m (unbuilt) │\n",
       "├─────────────────────────────────┼────────────────────────┼───────────────┤\n",
       "│ lstm_1 (\u001b[38;5;33mLSTM\u001b[0m)                   │ ?                      │   \u001b[38;5;34m0\u001b[0m (unbuilt) │\n",
       "├─────────────────────────────────┼────────────────────────┼───────────────┤\n",
       "│ dropout (\u001b[38;5;33mDropout\u001b[0m)               │ ?                      │   \u001b[38;5;34m0\u001b[0m (unbuilt) │\n",
       "├─────────────────────────────────┼────────────────────────┼───────────────┤\n",
       "│ lstm_2 (\u001b[38;5;33mLSTM\u001b[0m)                   │ ?                      │   \u001b[38;5;34m0\u001b[0m (unbuilt) │\n",
       "├─────────────────────────────────┼────────────────────────┼───────────────┤\n",
       "│ dropout_1 (\u001b[38;5;33mDropout\u001b[0m)             │ ?                      │   \u001b[38;5;34m0\u001b[0m (unbuilt) │\n",
       "├─────────────────────────────────┼────────────────────────┼───────────────┤\n",
       "│ dense_1 (\u001b[38;5;33mDense\u001b[0m)                 │ ?                      │   \u001b[38;5;34m0\u001b[0m (unbuilt) │\n",
       "└─────────────────────────────────┴────────────────────────┴───────────────┘\n"
      ]
     },
     "metadata": {},
     "output_type": "display_data"
    },
    {
     "data": {
      "text/html": [
       "<pre style=\"white-space:pre;overflow-x:auto;line-height:normal;font-family:Menlo,'DejaVu Sans Mono',consolas,'Courier New',monospace\"><span style=\"font-weight: bold\"> Total params: </span><span style=\"color: #00af00; text-decoration-color: #00af00\">0</span> (0.00 B)\n",
       "</pre>\n"
      ],
      "text/plain": [
       "\u001b[1m Total params: \u001b[0m\u001b[38;5;34m0\u001b[0m (0.00 B)\n"
      ]
     },
     "metadata": {},
     "output_type": "display_data"
    },
    {
     "data": {
      "text/html": [
       "<pre style=\"white-space:pre;overflow-x:auto;line-height:normal;font-family:Menlo,'DejaVu Sans Mono',consolas,'Courier New',monospace\"><span style=\"font-weight: bold\"> Trainable params: </span><span style=\"color: #00af00; text-decoration-color: #00af00\">0</span> (0.00 B)\n",
       "</pre>\n"
      ],
      "text/plain": [
       "\u001b[1m Trainable params: \u001b[0m\u001b[38;5;34m0\u001b[0m (0.00 B)\n"
      ]
     },
     "metadata": {},
     "output_type": "display_data"
    },
    {
     "data": {
      "text/html": [
       "<pre style=\"white-space:pre;overflow-x:auto;line-height:normal;font-family:Menlo,'DejaVu Sans Mono',consolas,'Courier New',monospace\"><span style=\"font-weight: bold\"> Non-trainable params: </span><span style=\"color: #00af00; text-decoration-color: #00af00\">0</span> (0.00 B)\n",
       "</pre>\n"
      ],
      "text/plain": [
       "\u001b[1m Non-trainable params: \u001b[0m\u001b[38;5;34m0\u001b[0m (0.00 B)\n"
      ]
     },
     "metadata": {},
     "output_type": "display_data"
    },
    {
     "name": "stdout",
     "output_type": "stream",
     "text": [
      "None\n"
     ]
    }
   ],
   "source": [
    "# import tensorflow as tf\n",
    "# from tensorflow.keras.models import Sequential\n",
    "# from tensorflow.keras.layers import LSTM, Dense, Dropout, Embedding\n",
    "# from tensorflow.keras.optimizers import Adam\n",
    "\n",
    "def build_model(vocab_size, embedding_dim, lstm_units, dropout_rate, learning_rate):\n",
    "    model = Sequential()\n",
    "    model.add(Embedding(input_dim=vocab_size, output_dim=embedding_dim))\n",
    "    model.add(LSTM(units=lstm_units, return_sequences=True))\n",
    "    model.add(Dropout(dropout_rate))\n",
    "    model.add(LSTM(units=lstm_units))\n",
    "    model.add(Dropout(dropout_rate))\n",
    "    model.add(Dense(1, activation='sigmoid'))  # Assuming binary classification\n",
    "\n",
    "    optimizer = Adam(learning_rate=learning_rate)\n",
    "    model.compile(loss='binary_crossentropy', optimizer=optimizer, metrics=['accuracy'])\n",
    "    return model\n",
    "\n",
    "# Example hyperparameters\n",
    "vocab_size = 10000   # Size of vocabulary\n",
    "embedding_dim = 256  # Dimensionality of the embedding layer\n",
    "lstm_units = 128     # Number of units in each LSTM layer\n",
    "dropout_rate = 0.2   # Dropout rate\n",
    "learning_rate = 0.001  # Learning rate for the optimizer\n",
    "\n",
    "# Build and compile the model\n",
    "model = build_model(vocab_size, embedding_dim, lstm_units, dropout_rate, learning_rate)\n",
    "\n",
    "# Summary of the model\n",
    "print(model.summary())\n"
   ]
  },
  {
   "cell_type": "markdown",
   "id": "1a6436f5",
   "metadata": {},
   "source": [
    "# Visualization "
   ]
  },
  {
   "cell_type": "code",
   "execution_count": 25,
   "id": "00222bf7",
   "metadata": {},
   "outputs": [],
   "source": [
    "import matplotlib.pyplot as plt\n",
    "import seaborn as sns\n",
    "from sklearn.metrics import confusion_matrix\n",
    "\n",
    "def plot_confusion_matrix(y_true, y_pred, title):\n",
    "    cm = confusion_matrix(y_true, y_pred)\n",
    "    plt.figure(figsize=(10, 7))\n",
    "    sns.heatmap(cm, annot=True, fmt='d', cmap='Blues', xticklabels=['Predicted Negative', 'Predicted Positive'], yticklabels=['True Negative', 'True Positive'])\n",
    "    plt.title(title)\n",
    "    plt.xlabel('Predicted')\n",
    "    plt.ylabel('True')\n",
    "    plt.show()\n"
   ]
  },
  {
   "cell_type": "code",
   "execution_count": 26,
   "id": "e5614d2b",
   "metadata": {},
   "outputs": [],
   "source": [
    "from sklearn.metrics import roc_curve, auc\n",
    "\n",
    "def plot_roc_curve(y_true, y_scores, title):\n",
    "    fpr, tpr, _ = roc_curve(y_true, y_scores)\n",
    "    roc_auc = auc(fpr, tpr)\n",
    "    plt.figure()\n",
    "    plt.plot(fpr, tpr, color='darkorange', lw=2, label='ROC curve (area = %0.2f)' % roc_auc)\n",
    "    plt.plot([0, 1], [0, 1], color='navy', lw=2, linestyle='--')\n",
    "    plt.xlim([0.0, 1.0])\n",
    "    plt.ylim([0.0, 1.05])\n",
    "    plt.xlabel('False Positive Rate')\n",
    "    plt.ylabel('True Positive Rate')\n",
    "    plt.title(title)\n",
    "    plt.legend(loc=\"lower right\")\n",
    "    plt.show()\n"
   ]
  },
  {
   "cell_type": "code",
   "execution_count": 27,
   "id": "37e7ca3e",
   "metadata": {},
   "outputs": [],
   "source": [
    "# Assuming the necessary imports and data splits are already done\n",
    "\n",
    "# Train Logistic Regression model\n",
    "from sklearn.linear_model import LogisticRegression\n",
    "\n",
    "lr_classifier_tfidf = LogisticRegression()\n",
    "lr_classifier_tfidf.fit(X_train_tfidf, y_train)\n",
    "\n",
    "# Get predictions\n",
    "baseline_predictions_tfidf = lr_classifier_tfidf.predict(X_test_tfidf)\n",
    "baseline_proba_tfidf = lr_classifier_tfidf.predict_proba(X_test_tfidf)[:, 1]\n"
   ]
  },
  {
   "cell_type": "code",
   "execution_count": 28,
   "id": "21ff616d",
   "metadata": {},
   "outputs": [
    {
     "data": {
      "image/png": "[encoded data removed]",
      "text/plain": [
       "<Figure size 1000x700 with 2 Axes>"
      ]
     },
     "metadata": {},
     "output_type": "display_data"
    },
    {
     "data": {
      "image/png": "[encoded data removed]",
      "text/plain": [
       "<Figure size 640x480 with 1 Axes>"
      ]
     },
     "metadata": {},
     "output_type": "display_data"
    }
   ],
   "source": [
    "# Initialize and train the logistic regression classifier\n",
    "lr_classifier_tfidf = LogisticRegression()\n",
    "lr_classifier_tfidf.fit(X_train_tfidf, y_train)\n",
    "\n",
    "# Get predictions\n",
    "baseline_predictions_tfidf = lr_classifier_tfidf.predict(X_test_tfidf)\n",
    "baseline_proba_tfidf = lr_classifier_tfidf.predict_proba(X_test_tfidf)[:, 1]\n",
    "\n",
    "# Function to plot confusion matrix\n",
    "def plot_confusion_matrix(y_true, y_pred, title):\n",
    "    cm = confusion_matrix(y_true, y_pred)\n",
    "    plt.figure(figsize=(10, 7))\n",
    "    sns.heatmap(cm, annot=True, fmt='d', cmap='Blues', xticklabels=['Predicted Negative', 'Predicted Positive'], yticklabels=['True Negative', 'True Positive'])\n",
    "    plt.title(title)\n",
    "    plt.xlabel('Predicted')\n",
    "    plt.ylabel('True')\n",
    "    plt.show()\n",
    "\n",
    "# Function to plot ROC curve\n",
    "def plot_roc_curve(y_true, y_scores, title):\n",
    "    fpr, tpr, _ = roc_curve(y_true, y_scores)\n",
    "    roc_auc = auc(fpr, tpr)\n",
    "    plt.figure()\n",
    "    plt.plot(fpr, tpr, color='darkorange', lw=2, label='ROC curve (area = %0.2f)' % roc_auc)\n",
    "    plt.plot([0, 1], [0, 1], color='navy', lw=2, linestyle='--')\n",
    "    plt.xlim([0.0, 1.0])\n",
    "    plt.ylim([0.0, 1.05])\n",
    "    plt.xlabel('False Positive Rate')\n",
    "    plt.ylabel('True Positive Rate')\n",
    "    plt.title(title)\n",
    "    plt.legend(loc=\"lower right\")\n",
    "    plt.show()\n",
    "\n",
    "# Plot confusion matrix and ROC curve for Logistic Regression\n",
    "plot_confusion_matrix(y_test, baseline_predictions_tfidf, 'Logistic Regression Confusion Matrix')\n",
    "plot_roc_curve(y_test, baseline_proba_tfidf, 'Logistic Regression ROC Curve')"
   ]
  },
  {
   "cell_type": "markdown",
   "id": "8a36e9a5",
   "metadata": {},
   "source": [
    "### Results and Discussion\n",
    "\n",
    "\n",
    "Model Performance:\n",
    "\n",
    "Comparative Analysis: The performance of the LSTM and SVM models was compared using the test dataset. The LSTM model, with its ability to capture sequential dependencies, demonstrated superior performance in terms of accuracy and F1-score compared to the SVM model. The hyperparameter tuning for SVM revealed that the RBF kernel with specific values for C and gamma provided the best results.\n",
    "Baseline Comparison: The logistic regression baseline model achieved an accuracy of [X%], providing a benchmark for evaluating the performance of LSTM and SVM. Both advanced models outperformed the baseline, with the LSTM model showing a significant improvement due to its ability to handle sequential data effectively.\n",
    "Insights and Findings:\n",
    "\n",
    "The LSTM model's performance highlights the importance of capturing context and sequential dependencies in text data. Its superior accuracy and F1-score demonstrate its effectiveness for NLP tasks.\n",
    "The SVM model, while robust and effective for high-dimensional data, was less capable of handling the intricacies of sequential text data compared to LSTM.\n",
    "Hyperparameter tuning played a crucial role in optimizing the models, with the chosen parameters significantly impacting the final performance.\n"
   ]
  },
  {
   "cell_type": "markdown",
   "id": "78e20ad0",
   "metadata": {},
   "source": [
    "### Challenges and Solutions\n",
    "Encountered Issues:\n",
    "\n",
    "Data Imbalance: One of the challenges was handling imbalanced classes in the dataset, which could skew the model's performance towards the majority class.\n",
    "Overfitting: Both models, especially the LSTM, were prone to overfitting due to their complexity and the size of the training data.\n",
    "Computational Resources: Training deep learning models like LSTM requires significant computational power, which was a limitation during the project.\n",
    "Adopted Solutions:\n",
    "\n",
    "Data Augmentation: Techniques such as oversampling the minority class and undersampling the majority class were used to address data imbalance.\n",
    "Regularization: Dropout layers and L2 regularization were applied to the LSTM model to prevent overfitting.\n",
    "Cross-Validation: GridSearchCV with cross-validation was used to ensure robust hyperparameter tuning and model evaluation."
   ]
  },
  {
   "cell_type": "markdown",
   "id": "b76095e6",
   "metadata": {},
   "source": [
    "### Conclusion and Future Work\n",
    "Summary of Achievements:\n",
    "\n",
    "Successfully implemented and compared LSTM and SVM models for text classification.\n",
    "Demonstrated the superiority of LSTM in capturing sequential dependencies in text data.\n",
    "Optimized model performance through effective hyperparameter tuning.\n",
    "Established a solid baseline for future work in text classification.\n",
    "Future Improvements:\n",
    "\n",
    "Enhanced Preprocessing: Incorporating advanced preprocessing techniques like word embeddings (e.g., Word2Vec, GloVe) and contextual embeddings (e.g., BERT) could further improve model performance.\n",
    "Additional Data: Acquiring more labeled data could enhance model training and generalization.\n",
    "Advanced Architectures: Experimenting with more complex architectures like bidirectional LSTM, GRU, or transformer-based models could yield better results.\n",
    "Real-time Applications: Implementing the models in real-time applications and evaluating their performance on unseen data would provide practical insights.\n"
   ]
  },
  {
   "cell_type": "markdown",
   "id": "ffeaeca5",
   "metadata": {},
   "source": [
    "### References\n",
    "Datasets: Kaggle. (Year). Dataset Title. Retrieved from [https://www.kaggle.com/datasets/brendan45774/wine-quality].\n",
    "\n",
    "Libraries and Tools:\n",
    "\n",
    "TensorFlow: https://www.tensorflow.org/\n",
    "Keras: https://keras.io/\n",
    "Scikit-Learn: https://scikit-learn.org/\n",
    "Hugging Face Transformers: https://huggingface.co/transformers/"
   ]
  },
  {
   "cell_type": "code",
   "execution_count": null,
   "id": "7d89edb4",
   "metadata": {},
   "outputs": [],
   "source": []
  }
 ],
 "metadata": {
  "kernelspec": {
   "display_name": "Python 3 (ipykernel)",
   "language": "python",
   "name": "python3"
  },
  "language_info": {
   "codemirror_mode": {
    "name": "ipython",
    "version": 3
   },
   "file_extension": ".py",
   "mimetype": "text/x-python",
   "name": "python",
   "nbconvert_exporter": "python",
   "pygments_lexer": "ipython3",
   "version": "3.11.5"
  }
 },
 "nbformat": 4,
 "nbformat_minor": 5
}
